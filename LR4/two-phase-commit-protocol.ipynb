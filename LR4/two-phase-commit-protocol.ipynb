{
 "cells": [
  {
   "cell_type": "code",
   "execution_count": 6,
   "id": "318705f1",
   "metadata": {},
   "outputs": [],
   "source": [
    "from logging import basicConfig\n",
    "from threading import Thread\n",
    "from time import sleep\n",
    "from kazoo.client import KazooClient\n",
    "import random\n",
    "import sys"
   ]
  },
  {
   "cell_type": "code",
   "execution_count": 7,
   "id": "587a3dbe",
   "metadata": {},
   "outputs": [],
   "source": [
    "ACTION_COMMIT =   b'commit'\n",
    "ACTION_ROLLBACK = b'rollback'\n",
    "WAIT_TIME = 5\n",
    "\n",
    "basicConfig()"
   ]
  },
  {
   "cell_type": "code",
   "execution_count": 8,
   "id": "882d3af0",
   "metadata": {},
   "outputs": [],
   "source": [
    "class Client(Thread):\n",
    "  def __init__(self, root: str, id: int):\n",
    "    super().__init__()\n",
    "    self.url = f\"{root}/{id}\"\n",
    "    self.root = root\n",
    "    self.id = id\n",
    "\n",
    "  def run(self):\n",
    "        client = KazooClient()\n",
    "        client.start()\n",
    "\n",
    "        value = ACTION_COMMIT if random.random() > 0.5 else ACTION_ROLLBACK\n",
    "        print(f\"Client {self.id} request {value.decode()}\")\n",
    "        \n",
    "        client.create(self.url, value, ephemeral=True)\n",
    "        \n",
    "        @client.DataWatch(self.url)\n",
    "        def watch_self(data, stat):\n",
    "            if stat.version > 0:\n",
    "                print(f\"Client {self.id} do {data.decode()}\")\n",
    "\n",
    "        sleep(WAIT_TIME)\n",
    "        client.stop()\n",
    "        client.close()"
   ]
  },
  {
   "cell_type": "code",
   "execution_count": 9,
   "id": "ea219858",
   "metadata": {},
   "outputs": [],
   "source": [
    "class Coordinator():\n",
    "    def main(self):\n",
    "        coord = KazooClient()\n",
    "        coord.start()\n",
    "\n",
    "        if coord.exists(\"/coord\"):\n",
    "            coord.delete(\"/coord\", recursive=True)\n",
    "\n",
    "        coord.create(\"/coord\")\n",
    "        coord.create(\"/coord/transaction\")\n",
    "\n",
    "        n_clients = 5\n",
    "\n",
    "        def solution():\n",
    "            clients = coord.get_children(\"/coord/transaction\")\n",
    "            commits, rollbacks = 0, 0\n",
    "            \n",
    "            for clt in clients:\n",
    "                commits += int(coord.get(f\"/coord/transaction/{clt}\")[0] == ACTION_COMMIT)\n",
    "                rollbacks += int(coord.get(f\"/coord/transaction/{clt}\")[0] == ACTION_ROLLBACK)\n",
    "\n",
    "            for clt in clients:\n",
    "                coord.set(f\"/coord/transaction/{clt}\", b\"commit\" if commits > rollbacks else ACTION_ROLLBACK)\n",
    "\n",
    "        @coord.ChildrenWatch(\"/coord/transaction\")\n",
    "        def check_clients(clients):\n",
    "            if len(clients) < n_clients:\n",
    "                print(f\"Waiting others clients: {clients}\")\n",
    "\n",
    "            elif len(clients) == n_clients:\n",
    "                print(\"Check clients\")\n",
    "                solution()\n",
    "\n",
    "        for x in range(5):\n",
    "            begin=Client(\"/coord/transaction\", x)\n",
    "            begin.start()"
   ]
  },
  {
   "cell_type": "code",
   "execution_count": 11,
   "id": "149536df",
   "metadata": {},
   "outputs": [
    {
     "name": "stdout",
     "output_type": "stream",
     "text": [
      "Waiting others clients: []\n",
      "Client 0 request commit\n",
      "Client 2 request commit\n",
      "Client 3 request rollback\n",
      "Client 4 request commit\n",
      "Client 1 request rollback\n",
      "Check clients\n",
      "Client 0 do commit\n",
      "Client 1 do commit\n",
      "Client 2 do commit\n",
      "Client 3 do commit\n",
      "Client 4 do commit\n",
      "Waiting others clients: []\n"
     ]
    }
   ],
   "source": [
    "Coordinator().main()"
   ]
  },
  {
   "cell_type": "code",
   "execution_count": null,
   "id": "e35105d1",
   "metadata": {},
   "outputs": [],
   "source": []
  }
 ],
 "metadata": {
  "kernelspec": {
   "display_name": "Python 3 (ipykernel)",
   "language": "python",
   "name": "python3"
  },
  "language_info": {
   "codemirror_mode": {
    "name": "ipython",
    "version": 3
   },
   "file_extension": ".py",
   "mimetype": "text/x-python",
   "name": "python",
   "nbconvert_exporter": "python",
   "pygments_lexer": "ipython3",
   "version": "3.7.3"
  }
 },
 "nbformat": 4,
 "nbformat_minor": 5
}
