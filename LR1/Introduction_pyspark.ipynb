{
 "cells": [
  {
   "cell_type": "code",
   "execution_count": 1,
   "id": "92a8be3d",
   "metadata": {},
   "outputs": [
    {
     "name": "stderr",
     "output_type": "stream",
     "text": [
      "/usr/local/lib/python3.6/dist-packages/pyspark/context.py:238: FutureWarning: Python 3.6 support is deprecated in Spark 3.2.\n",
      "  FutureWarning\n"
     ]
    },
    {
     "data": {
      "text/html": [
       "\n",
       "        <div>\n",
       "            <p><b>SparkContext</b></p>\n",
       "\n",
       "            <p><a href=\"http://maprdemo.mapr.io:4041\">Spark UI</a></p>\n",
       "\n",
       "            <dl>\n",
       "              <dt>Version</dt>\n",
       "                <dd><code>v3.2.3</code></dd>\n",
       "              <dt>Master</dt>\n",
       "                <dd><code>local[1]</code></dd>\n",
       "              <dt>AppName</dt>\n",
       "                <dd><code>Lab1</code></dd>\n",
       "            </dl>\n",
       "        </div>\n",
       "        "
      ],
      "text/plain": [
       "<SparkContext master=local[1] appName=Lab1>"
      ]
     },
     "execution_count": 1,
     "metadata": {},
     "output_type": "execute_result"
    }
   ],
   "source": [
    "from pyspark import SparkContext, SparkConf\n",
    "app_name = \"Lab1\"\n",
    "conf = SparkConf().setAppName(app_name).setMaster('local[1]')\n",
    "sc = SparkContext(conf=conf)\n",
    "sc"
   ]
  },
  {
   "cell_type": "code",
   "execution_count": 2,
   "id": "b5de8181",
   "metadata": {},
   "outputs": [],
   "source": [
    "!hadoop fs -put /mnt/data /data"
   ]
  },
  {
   "cell_type": "code",
   "execution_count": 3,
   "id": "4b09a16e",
   "metadata": {},
   "outputs": [
    {
     "name": "stdout",
     "output_type": "stream",
     "text": [
      "Found 1 items\r\n",
      "drwxr-xr-x   - root root          0 2022-12-01 07:11 /data/data\r\n"
     ]
    }
   ],
   "source": [
    "!hadoop fs -ls /data"
   ]
  },
  {
   "cell_type": "code",
   "execution_count": 15,
   "id": "7f73fb72",
   "metadata": {},
   "outputs": [],
   "source": [
    "from typing import NamedTuple\n",
    "from datetime import datetime\n",
    "from functools import reduce"
   ]
  },
  {
   "cell_type": "code",
   "execution_count": 16,
   "id": "541a4b69",
   "metadata": {},
   "outputs": [],
   "source": [
    "def initStation(stations):\n",
    "    class Station(NamedTuple):\n",
    "        station_id: int\n",
    "        name: str\n",
    "        lat: float\n",
    "        long: float\n",
    "        dockcount: int\n",
    "        landmark: str\n",
    "        installation: str\n",
    "    \n",
    "    for station in stations:\n",
    "        yield Station(\n",
    "            station_id = int(station[0]),\n",
    "            name = station[1],\n",
    "            lat = float(station[2]),\n",
    "            long = float(station[3]),\n",
    "            dockcount = int(station[4]),\n",
    "            landmark = station[5],\n",
    "            installation = datetime.strptime(station[6], '%m/%d/%Y')\n",
    "        )\n",
    "\n",
    "def initTrip(trips):\n",
    "    class Trip(NamedTuple):\n",
    "        trip_id: int\n",
    "        duration: int\n",
    "        start_date: datetime\n",
    "        start_station_name: str\n",
    "        start_station_id: int\n",
    "        end_date: datetime\n",
    "        end_station_name: str\n",
    "        end_station_id: int\n",
    "        bike_id: int\n",
    "        subscription_type: str\n",
    "        zip_code: str\n",
    "        \n",
    "    for trip in trips:\n",
    "        try:\n",
    "            yield Trip(                             \n",
    "             trip_id = int(trip[0]),\n",
    "             duration = int(trip[1]),\n",
    "             start_date = datetime.strptime(trip[2], '%m/%d/%Y %H:%M'),\n",
    "             start_station_name = trip[3],\n",
    "             start_station_id = int(trip[4]),\n",
    "             end_date = datetime.strptime(trip[5], '%m/%d/%Y %H:%M'),\n",
    "             end_station_name = trip[6],\n",
    "             end_station_id = trip[7],\n",
    "             bike_id = int(trip[8]),\n",
    "             subscription_type = trip[9],\n",
    "             zip_code = trip[10]\n",
    "            ) \n",
    "        except:\n",
    "            pass"
   ]
  },
  {
   "cell_type": "code",
   "execution_count": 17,
   "id": "2e85646b",
   "metadata": {},
   "outputs": [],
   "source": [
    "def GetDataFromTable(data): # метод, вовзрающий только данные, без названия столбцов\n",
    "    columns = data.first()\n",
    "    table = data.filter(lambda row: row != columns)\\\n",
    "                .map(lambda row: row.split(\",\"))\n",
    "    return columns, table"
   ]
  },
  {
   "cell_type": "code",
   "execution_count": 18,
   "id": "05bbbd04",
   "metadata": {},
   "outputs": [],
   "source": [
    "trip_data = sc.textFile(\"trip.csv\")\n",
    "station_data = sc.textFile(\"station.csv\")"
   ]
  },
  {
   "cell_type": "code",
   "execution_count": 19,
   "id": "b57e8dd2",
   "metadata": {},
   "outputs": [
    {
     "name": "stdout",
     "output_type": "stream",
     "text": [
      "id,duration,start_date,start_station_name,start_station_id,end_date,end_station_name,end_station_id,bike_id,subscription_type,zip_code\r\n",
      "4576,63,8/29/2013 14:13,South Van Ness at Market,66,8/29/2013 14:14,South Van Ness at Market,66,520,Subscriber,94127\r\n",
      "4607,70,8/29/2013 14:42,San Jose City Hall,10,8/29/2013 14:43,San Jose City Hall,10,661,Subscriber,95138\r\n",
      "4130,71,8/29/2013 10:16,Mountain View City Hall,27,8/29/2013 10:17,Mountain View City Hall,27,48,Subscriber,97214\r\n",
      "4251,77,8/29/2013 11:29,San Jose City Hall,10,8/29/2013 11:30,San Jose City Hall,10,26,Subscriber,95060\r\n",
      "4299,83,8/29/2013 12:02,South Van Ness at Market,66,8/29/2013 12:04,Market at 10th,67,319,Subscriber,94103\r\n",
      "4927,103,8/29/2013 18:54,Golden Gate at Polk,59,8/29/2013 18:56,Golden Gate at Polk,59,527,Subscriber,94109\r\n",
      "4500,109,8/29/2013 13:25,Santa Clara at Almaden,4,8/29/2013 13:27,Adobe on Almaden,5,679,Subscriber,95112\r\n",
      "4563,111,8/29/2013 14:02,San Salvador at 1st,8,8/29/2013 14:04,San Salvador at 1st,8,687,Subscriber,95112\r\n",
      "4760,113,8/29/2013 17:01,South Van Ness at Market,66,8/29/2013 17:03,South Van Ness at Market,66,553,Subscriber,94103\r\n"
     ]
    }
   ],
   "source": [
    "!head trip.csv"
   ]
  },
  {
   "cell_type": "code",
   "execution_count": 20,
   "id": "cd375e88",
   "metadata": {},
   "outputs": [
    {
     "data": {
      "text/plain": [
       "'id,duration,start_date,start_station_name,start_station_id,end_date,end_station_name,end_station_id,bike_id,subscription_type,zip_code'"
      ]
     },
     "execution_count": 20,
     "metadata": {},
     "output_type": "execute_result"
    }
   ],
   "source": [
    "trip_data.first()"
   ]
  },
  {
   "cell_type": "code",
   "execution_count": 21,
   "id": "2f838e14",
   "metadata": {},
   "outputs": [],
   "source": [
    "trip_header=trip_data.first()\n",
    "station_header=station_data.first()"
   ]
  },
  {
   "cell_type": "code",
   "execution_count": 22,
   "id": "5359fe93",
   "metadata": {},
   "outputs": [],
   "source": [
    "trips=trip_data.filter(lambda x: x != trip_header).map(lambda x: x.split(\",\"))\n",
    "stations=station_data.filter(lambda x: x != station_header).map(lambda x: x.split(\",\"))"
   ]
  },
  {
   "cell_type": "code",
   "execution_count": 23,
   "id": "a37c18c1",
   "metadata": {},
   "outputs": [
    {
     "data": {
      "text/plain": [
       "[['4576',\n",
       "  '63',\n",
       "  '8/29/2013 14:13',\n",
       "  'South Van Ness at Market',\n",
       "  '66',\n",
       "  '8/29/2013 14:14',\n",
       "  'South Van Ness at Market',\n",
       "  '66',\n",
       "  '520',\n",
       "  'Subscriber',\n",
       "  '94127'],\n",
       " ['4607',\n",
       "  '70',\n",
       "  '8/29/2013 14:42',\n",
       "  'San Jose City Hall',\n",
       "  '10',\n",
       "  '8/29/2013 14:43',\n",
       "  'San Jose City Hall',\n",
       "  '10',\n",
       "  '661',\n",
       "  'Subscriber',\n",
       "  '95138'],\n",
       " ['4130',\n",
       "  '71',\n",
       "  '8/29/2013 10:16',\n",
       "  'Mountain View City Hall',\n",
       "  '27',\n",
       "  '8/29/2013 10:17',\n",
       "  'Mountain View City Hall',\n",
       "  '27',\n",
       "  '48',\n",
       "  'Subscriber',\n",
       "  '97214']]"
      ]
     },
     "execution_count": 23,
     "metadata": {},
     "output_type": "execute_result"
    }
   ],
   "source": [
    "trips.take(3)"
   ]
  },
  {
   "cell_type": "code",
   "execution_count": 24,
   "id": "416ab881",
   "metadata": {},
   "outputs": [],
   "source": [
    "stations_ = stations.mapPartitions(initStation)"
   ]
  },
  {
   "cell_type": "code",
   "execution_count": 25,
   "id": "ad5eb237",
   "metadata": {},
   "outputs": [
    {
     "data": {
      "text/plain": [
       "Station(station_id=2, name='San Jose Diridon Caltrain Station', lat=37.329732, long=-121.90178200000001, dockcount=27, landmark='San Jose', installation=datetime.datetime(2013, 8, 6, 0, 0))"
      ]
     },
     "execution_count": 25,
     "metadata": {},
     "output_type": "execute_result"
    }
   ],
   "source": [
    "stations_.first()"
   ]
  },
  {
   "cell_type": "code",
   "execution_count": 26,
   "id": "03fdffae",
   "metadata": {},
   "outputs": [],
   "source": [
    "trips_= trips.mapPartitions(initTrip)"
   ]
  },
  {
   "cell_type": "code",
   "execution_count": 27,
   "id": "9151d8ca",
   "metadata": {},
   "outputs": [
    {
     "data": {
      "text/plain": [
       "Trip(trip_id=4576, duration=63, start_date=datetime.datetime(2013, 8, 29, 14, 13), start_station_name='South Van Ness at Market', start_station_id=66, end_date=datetime.datetime(2013, 8, 29, 14, 14), end_station_name='South Van Ness at Market', end_station_id='66', bike_id=520, subscription_type='Subscriber', zip_code='94127')"
      ]
     },
     "execution_count": 27,
     "metadata": {},
     "output_type": "execute_result"
    }
   ],
   "source": [
    "trips_.first()"
   ]
  },
  {
   "cell_type": "markdown",
   "id": "45e572ef",
   "metadata": {},
   "source": [
    "## 1. Найти велосипед с максимальным временем пробега."
   ]
  },
  {
   "cell_type": "code",
   "execution_count": 28,
   "id": "af1d8a55",
   "metadata": {},
   "outputs": [
    {
     "data": {
      "text/plain": [
       "535"
      ]
     },
     "execution_count": 28,
     "metadata": {},
     "output_type": "execute_result"
    }
   ],
   "source": [
    "bike_max_mileage = trips_.keyBy(lambda x: x.bike_id)\n",
    "bike_duration = bike_max_mileage.mapValues(lambda x: x.duration).reduceByKey(lambda x1, x2: x1 + x2)\n",
    "bike_duration_top = bike_duration.top(1, key=lambda x: x[1])[0][0]\n",
    "bike_duration_top"
   ]
  },
  {
   "cell_type": "markdown",
   "id": "d69a8bfd",
   "metadata": {},
   "source": [
    "## 2. Найти наибольшее геодезическое расстояние между станциями."
   ]
  },
  {
   "cell_type": "code",
   "execution_count": 29,
   "id": "373f54d5",
   "metadata": {},
   "outputs": [],
   "source": [
    "trips_stations = trips_.filter(\n",
    "    lambda trip: trip.start_station_id != trip.end_station_id\n",
    ").keyBy(\n",
    "    lambda trip: (trip.start_station_id, trip.end_station_id)\n",
    ").mapValues(lambda trip: trip.duration)"
   ]
  },
  {
   "cell_type": "code",
   "execution_count": 30,
   "id": "ec51de18",
   "metadata": {},
   "outputs": [],
   "source": [
    "query = trips_stations.aggregateByKey(\n",
    "    (0.0, 0.0),\n",
    "    lambda acc, value: (acc[0] + value, acc[1] + 1),\n",
    "    lambda acc1, acc2: (acc1[0] + acc2[0], acc1[1] + acc2[1]),\n",
    ").mapValues(lambda values: values[0] / values[1])"
   ]
  },
  {
   "cell_type": "code",
   "execution_count": 31,
   "id": "7cb2a902",
   "metadata": {},
   "outputs": [
    {
     "data": {
      "text/plain": [
       "[(229914.0, (26, '16')),\n",
       " (179212.5, (32, '63')),\n",
       " (169308.0, (80, '36')),\n",
       " (156461.03603603604, (66, '62')),\n",
       " (101207.5, (28, '2'))]"
      ]
     },
     "execution_count": 31,
     "metadata": {},
     "output_type": "execute_result"
    }
   ],
   "source": [
    "query.map(lambda x: x[::-1]).top(5)"
   ]
  },
  {
   "cell_type": "markdown",
   "id": "dc297986",
   "metadata": {},
   "source": [
    "## 3. Найти путь велосипеда с максимальным временем пробега через станции."
   ]
  },
  {
   "cell_type": "code",
   "execution_count": 32,
   "id": "25dd5185",
   "metadata": {},
   "outputs": [
    {
     "data": {
      "text/plain": [
       "('Post at Kearney', 'San Francisco Caltrain (Townsend at 4th)')"
      ]
     },
     "execution_count": 32,
     "metadata": {},
     "output_type": "execute_result"
    }
   ],
   "source": [
    "bike_path = trips_.filter(lambda x: x.bike_id == bike_duration_top)\\\n",
    ".sortBy(lambda x: x.start_date).map(lambda x: (x.start_station_name, x.end_station_name))\n",
    "\n",
    "bike_path.first()"
   ]
  },
  {
   "cell_type": "markdown",
   "id": "40bd23c1",
   "metadata": {},
   "source": [
    "## 4. Найти количество велосипедов в системе."
   ]
  },
  {
   "cell_type": "code",
   "execution_count": 33,
   "id": "3b6a092b",
   "metadata": {},
   "outputs": [
    {
     "data": {
      "text/plain": [
       "700"
      ]
     },
     "execution_count": 33,
     "metadata": {},
     "output_type": "execute_result"
    }
   ],
   "source": [
    "count_bikes = trips_.map(lambda x: x.bike_id).distinct().count()\n",
    "\n",
    "count_bikes"
   ]
  },
  {
   "cell_type": "markdown",
   "id": "6afc49d7",
   "metadata": {},
   "source": [
    "## 5. Найти пользователей потративших на поездки более 3 часов."
   ]
  },
  {
   "cell_type": "code",
   "execution_count": 34,
   "id": "20582107",
   "metadata": {},
   "outputs": [
    {
     "data": {
      "text/plain": [
       "['58553',\n",
       " '94301',\n",
       " '94039',\n",
       " '94133',\n",
       " '93726',\n",
       " '94123',\n",
       " '4517',\n",
       " '29200',\n",
       " '45322',\n",
       " '94080']"
      ]
     },
     "execution_count": 34,
     "metadata": {},
     "output_type": "execute_result"
    }
   ],
   "source": [
    "users = trips_.filter(lambda x: x.duration > (3 * 60 * 60))\\\n",
    ".map(lambda x: x.zip_code).filter(lambda x: x != \"\").distinct()\n",
    "\n",
    "users.take(10)"
   ]
  },
  {
   "cell_type": "code",
   "execution_count": null,
   "id": "4f20c156",
   "metadata": {},
   "outputs": [],
   "source": []
  }
 ],
 "metadata": {
  "kernelspec": {
   "display_name": "Python 3 (ipykernel)",
   "language": "python",
   "name": "python3"
  },
  "language_info": {
   "codemirror_mode": {
    "name": "ipython",
    "version": 3
   },
   "file_extension": ".py",
   "mimetype": "text/x-python",
   "name": "python",
   "nbconvert_exporter": "python",
   "pygments_lexer": "ipython3",
   "version": "3.11.4"
  }
 },
 "nbformat": 4,
 "nbformat_minor": 5
}
