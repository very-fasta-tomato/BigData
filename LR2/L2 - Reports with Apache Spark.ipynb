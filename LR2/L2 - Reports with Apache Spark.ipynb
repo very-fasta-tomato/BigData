{
 "cells": [
  {
   "cell_type": "code",
   "execution_count": 1,
   "id": "7e4f47e7",
   "metadata": {},
   "outputs": [],
   "source": [
    "import pyspark\n",
    "import os\n",
    "\n",
    "from datetime import datetime\n",
    "from pyspark.sql.functions import col\n",
    "from pyspark.sql import SparkSession\n",
    "from pyspark import SparkContext, SparkConf\n",
    "from pyspark.sql.types import StructType, StructField, StringType, DateType"
   ]
  },
  {
   "cell_type": "code",
   "execution_count": 2,
   "id": "a4b7a02e",
   "metadata": {},
   "outputs": [
    {
     "name": "stderr",
     "output_type": "stream",
     "text": [
      "/usr/local/lib/python3.6/dist-packages/pyspark/context.py:238: FutureWarning: Python 3.6 support is deprecated in Spark 3.2.\n",
      "  FutureWarning\n"
     ]
    }
   ],
   "source": [
    "os.environ['PYSPARK_SUBMIT_ARGS'] = '--packages com.databricks:spark-xml_2.12:0.13.0 pyspark-shell'\n",
    "sc = SparkSession.builder.appName(\"L2\").master(\"local[*]\").getOrCreate()"
   ]
  },
  {
   "cell_type": "code",
   "execution_count": 3,
   "id": "e062c065",
   "metadata": {},
   "outputs": [
    {
     "data": {
      "text/html": [
       "\n",
       "            <div>\n",
       "                <p><b>SparkSession - in-memory</b></p>\n",
       "                \n",
       "        <div>\n",
       "            <p><b>SparkContext</b></p>\n",
       "\n",
       "            <p><a href=\"http://maprdemo.mapr.io:4040\">Spark UI</a></p>\n",
       "\n",
       "            <dl>\n",
       "              <dt>Version</dt>\n",
       "                <dd><code>v3.2.3</code></dd>\n",
       "              <dt>Master</dt>\n",
       "                <dd><code>local[*]</code></dd>\n",
       "              <dt>AppName</dt>\n",
       "                <dd><code>L2</code></dd>\n",
       "            </dl>\n",
       "        </div>\n",
       "        \n",
       "            </div>\n",
       "        "
      ],
      "text/plain": [
       "<pyspark.sql.session.SparkSession at 0x7f86d27e6f28>"
      ]
     },
     "execution_count": 3,
     "metadata": {},
     "output_type": "execute_result"
    }
   ],
   "source": [
    "sc"
   ]
  },
  {
   "cell_type": "code",
   "execution_count": 4,
   "id": "9340f4ea",
   "metadata": {},
   "outputs": [],
   "source": [
    "pro_lang = sc.read.csv(\"programming-languages.csv\")"
   ]
  },
  {
   "cell_type": "code",
   "execution_count": 5,
   "id": "c9a78df8",
   "metadata": {},
   "outputs": [],
   "source": [
    "# Создадим список из имен языков программирования\n",
    "pro_lang_list = [str(x[0]) for x in pro_lang.collect()]"
   ]
  },
  {
   "cell_type": "code",
   "execution_count": 7,
   "id": "c066a75b",
   "metadata": {},
   "outputs": [
    {
     "data": {
      "text/plain": [
       "['name',\n",
       " 'A# .NET',\n",
       " 'A# (Axiom)',\n",
       " 'A-0 System',\n",
       " 'A+',\n",
       " 'A++',\n",
       " 'ABAP',\n",
       " 'ABC',\n",
       " 'ABC ALGOL',\n",
       " 'ABSET']"
      ]
     },
     "execution_count": 7,
     "metadata": {},
     "output_type": "execute_result"
    }
   ],
   "source": [
    "pro_lang_list[:10]"
   ]
  },
  {
   "cell_type": "code",
   "execution_count": 8,
   "id": "8e799519",
   "metadata": {},
   "outputs": [],
   "source": [
    "posts_sample = sc.read.format(\"xml\").options(rowTag=\"row\").load('posts_sample.xml')"
   ]
  },
  {
   "cell_type": "code",
   "execution_count": 9,
   "id": "eda07d79",
   "metadata": {},
   "outputs": [
    {
     "data": {
      "text/plain": [
       "[Row(_AcceptedAnswerId=7, _AnswerCount=13, _Body=\"<p>I want to use a track-bar to change a form's opacity.</p>\\n\\n<p>This is my code:</p>\\n\\n<pre><code>decimal trans = trackBar1.Value / 5000;\\nthis.Opacity = trans;\\n</code></pre>\\n\\n<p>When I build the application, it gives the following error:</p>\\n\\n<blockquote>\\n  <p>Cannot implicitly convert type <code>'decimal'</code> to <code>'double'</code></p>\\n</blockquote>\\n\\n<p>I tried using <code>trans</code> and <code>double</code> but then the control doesn't work. This code worked fine in a past VB.NET project.</p>\\n\", _ClosedDate=None, _CommentCount=2, _CommunityOwnedDate=datetime.datetime(2012, 10, 31, 16, 42, 47, 213000), _CreationDate=datetime.datetime(2008, 7, 31, 21, 42, 52, 667000), _FavoriteCount=48, _Id=4, _LastActivityDate=datetime.datetime(2019, 7, 19, 1, 39, 54, 173000), _LastEditDate=datetime.datetime(2019, 7, 19, 1, 39, 54, 173000), _LastEditorDisplayName='Rich B', _LastEditorUserId=3641067, _OwnerDisplayName=None, _OwnerUserId=8, _ParentId=None, _PostTypeId=1, _Score=630, _Tags='<c#><floating-point><type-conversion><double><decimal>', _Title='Convert Decimal to Double?', _ViewCount=42817)]"
      ]
     },
     "execution_count": 9,
     "metadata": {},
     "output_type": "execute_result"
    }
   ],
   "source": [
    "posts_sample.take(1)"
   ]
  },
  {
   "cell_type": "markdown",
   "id": "0d846f30",
   "metadata": {},
   "source": [
    "Функция language_detection() переводит весь текст в нижний регистр и ищет название языка программирования в каждой строке, если язык был найден, то создается кортеж, иначе None. Функция check_date() для проверки даты, так как нам необходим диапазон с 2010 по 2020"
   ]
  },
  {
   "cell_type": "code",
   "execution_count": null,
   "id": "a1d01019",
   "metadata": {},
   "outputs": [],
   "source": [
    "def language_detection(x):\n",
    "    \n",
    "  tag = None\n",
    "  for language in pro_lang_list:\n",
    "    if \"<\" + language.lower() + \">\" in x._Tags.lower():\n",
    "      tag = language\n",
    "      break\n",
    "  if tag is None:\n",
    "    return None\n",
    "  return (x._Id, tag)\n",
    "\n",
    "\n",
    "def check_date(x, year):\n",
    "    \n",
    "  start = datetime(year=year, month=1, day=1)\n",
    "  end = datetime(year=year, month=12, day=31)\n",
    "  CreationDate = x._CreationDate\n",
    "  return CreationDate >= start and CreationDate <= end"
   ]
  },
  {
   "cell_type": "markdown",
   "id": "2bb05d2a",
   "metadata": {},
   "source": [
    "Фрагмент кода ниже убирает пустые значения и оставляет диапазон с 2010 по 2019 год,\n",
    "далее мы находим язык программирования в каждой строке и убираем пустые значения, если не был \n",
    "найден, потом смотрим, сколько раз упоминался каждый язык программирования в каждом годе и сортируем по \n",
    "количеству повторений и в конце идет сортировка от большего к меньшему по количеству упоминаний."
   ]
  },
  {
   "cell_type": "code",
   "execution_count": 15,
   "id": "5af90277",
   "metadata": {},
   "outputs": [
    {
     "name": "stdout",
     "output_type": "stream",
     "text": [
      "+--------------------+--------------------------+\n",
      "|Programming_language|Number_of_mentions_in_2010|\n",
      "+--------------------+--------------------------+\n",
      "|                Java|                        52|\n",
      "|          JavaScript|                        44|\n",
      "|                 PHP|                        42|\n",
      "|              Python|                        25|\n",
      "|         Objective-C|                        22|\n",
      "|                   C|                        20|\n",
      "|                Ruby|                        11|\n",
      "|              Delphi|                         7|\n",
      "|                   R|                         3|\n",
      "|                Bash|                         3|\n",
      "+--------------------+--------------------------+\n",
      "\n",
      "+--------------------+--------------------------+\n",
      "|Programming_language|Number_of_mentions_in_2011|\n",
      "+--------------------+--------------------------+\n",
      "|                 PHP|                        97|\n",
      "|                Java|                        92|\n",
      "|          JavaScript|                        82|\n",
      "|              Python|                        35|\n",
      "|         Objective-C|                        33|\n",
      "|                   C|                        24|\n",
      "|                Ruby|                        17|\n",
      "|              Delphi|                         8|\n",
      "|                Perl|                         8|\n",
      "|                Bash|                         7|\n",
      "+--------------------+--------------------------+\n",
      "\n",
      "+--------------------+--------------------------+\n",
      "|Programming_language|Number_of_mentions_in_2012|\n",
      "+--------------------+--------------------------+\n",
      "|                 PHP|                       136|\n",
      "|          JavaScript|                       129|\n",
      "|                Java|                       124|\n",
      "|              Python|                        65|\n",
      "|         Objective-C|                        45|\n",
      "|                   C|                        27|\n",
      "|                Ruby|                        25|\n",
      "|                Bash|                         9|\n",
      "|                   R|                         9|\n",
      "|              MATLAB|                         6|\n",
      "+--------------------+--------------------------+\n",
      "\n",
      "+--------------------+--------------------------+\n",
      "|Programming_language|Number_of_mentions_in_2013|\n",
      "+--------------------+--------------------------+\n",
      "|          JavaScript|                       196|\n",
      "|                Java|                       191|\n",
      "|                 PHP|                       173|\n",
      "|              Python|                        87|\n",
      "|         Objective-C|                        40|\n",
      "|                   C|                        36|\n",
      "|                Ruby|                        30|\n",
      "|                   R|                        25|\n",
      "|                Bash|                        11|\n",
      "|               Scala|                        10|\n",
      "+--------------------+--------------------------+\n",
      "\n",
      "+--------------------+--------------------------+\n",
      "|Programming_language|Number_of_mentions_in_2014|\n",
      "+--------------------+--------------------------+\n",
      "|          JavaScript|                       235|\n",
      "|                Java|                       228|\n",
      "|                 PHP|                       154|\n",
      "|              Python|                       103|\n",
      "|                   C|                        52|\n",
      "|         Objective-C|                        49|\n",
      "|                   R|                        28|\n",
      "|                Ruby|                        20|\n",
      "|              MATLAB|                        16|\n",
      "|                Bash|                        13|\n",
      "+--------------------+--------------------------+\n",
      "\n",
      "+--------------------+--------------------------+\n",
      "|Programming_language|Number_of_mentions_in_2015|\n",
      "+--------------------+--------------------------+\n",
      "|          JavaScript|                       270|\n",
      "|                Java|                       208|\n",
      "|                 PHP|                       147|\n",
      "|              Python|                       119|\n",
      "|                   R|                        43|\n",
      "|                   C|                        38|\n",
      "|         Objective-C|                        30|\n",
      "|                Ruby|                        20|\n",
      "|              MATLAB|                        16|\n",
      "|               Scala|                        13|\n",
      "+--------------------+--------------------------+\n",
      "\n",
      "+--------------------+--------------------------+\n",
      "|Programming_language|Number_of_mentions_in_2016|\n",
      "+--------------------+--------------------------+\n",
      "|          JavaScript|                       271|\n",
      "|                Java|                       178|\n",
      "|              Python|                       140|\n",
      "|                 PHP|                       126|\n",
      "|                   R|                        50|\n",
      "|                   C|                        32|\n",
      "|                Ruby|                        21|\n",
      "|                Bash|                        16|\n",
      "|               Scala|                        16|\n",
      "|              MATLAB|                        15|\n",
      "+--------------------+--------------------------+\n",
      "\n",
      "+--------------------+--------------------------+\n",
      "|Programming_language|Number_of_mentions_in_2017|\n",
      "+--------------------+--------------------------+\n",
      "|          JavaScript|                       244|\n",
      "|                Java|                       204|\n",
      "|              Python|                       185|\n",
      "|                 PHP|                       122|\n",
      "|                   R|                        53|\n",
      "|                   C|                        24|\n",
      "|         Objective-C|                        19|\n",
      "|                Ruby|                        16|\n",
      "|          TypeScript|                        14|\n",
      "|          PowerShell|                        14|\n",
      "+--------------------+--------------------------+\n",
      "\n",
      "+--------------------+--------------------------+\n",
      "|Programming_language|Number_of_mentions_in_2018|\n",
      "+--------------------+--------------------------+\n",
      "|              Python|                       214|\n",
      "|          JavaScript|                       194|\n",
      "|                Java|                       145|\n",
      "|                 PHP|                        99|\n",
      "|                   R|                        63|\n",
      "|                   C|                        24|\n",
      "|               Scala|                        22|\n",
      "|          TypeScript|                        21|\n",
      "|          PowerShell|                        13|\n",
      "|                Bash|                        12|\n",
      "+--------------------+--------------------------+\n",
      "\n",
      "+--------------------+--------------------------+\n",
      "|Programming_language|Number_of_mentions_in_2019|\n",
      "+--------------------+--------------------------+\n",
      "|              Python|                       162|\n",
      "|          JavaScript|                       131|\n",
      "|                Java|                        95|\n",
      "|                 PHP|                        59|\n",
      "|                   R|                        36|\n",
      "|                   C|                        14|\n",
      "|                  Go|                         9|\n",
      "|              MATLAB|                         9|\n",
      "|                Dart|                         9|\n",
      "|                Bash|                         8|\n",
      "+--------------------+--------------------------+\n",
      "\n"
     ]
    }
   ],
   "source": [
    "final_result = {}\n",
    "for year in range(2010, 2020):\n",
    "  final_result[year] = posts_sample.rdd\\\n",
    "      .filter(lambda x: x._Tags is not None and check_date(x, year))\\\n",
    "      .map(language_detection)\\\n",
    "      .filter(lambda x: x is not None)\\\n",
    "      .keyBy(lambda x: x[1])\\\n",
    "      .aggregateByKey(\n",
    "          0,\n",
    "          lambda x, y: x + 1,\n",
    "          lambda x1, x2: x1 + x2,\n",
    "      )\\\n",
    "      .sortBy(lambda x: x[1], ascending=False)\\\n",
    "      .toDF()\n",
    "  final_result[year] = final_result[year].select(col(\"_1\").alias(\"Programming_language\"), \n",
    "                                                 col(\"_2\").alias(f\"Number_of_mentions_in_{year}\")).limit(10)\n",
    "  final_result[year].show()"
   ]
  },
  {
   "cell_type": "code",
   "execution_count": 16,
   "id": "631daad3",
   "metadata": {},
   "outputs": [],
   "source": [
    "for year in final_result.keys():\n",
    "    final_result[year].write.format(\"parquet\").save(f\"top_{year}\")"
   ]
  },
  {
   "cell_type": "code",
   "execution_count": null,
   "id": "5ce0e55b",
   "metadata": {},
   "outputs": [],
   "source": []
  }
 ],
 "metadata": {
  "kernelspec": {
   "display_name": "Python 3",
   "language": "python",
   "name": "python3"
  },
  "language_info": {
   "codemirror_mode": {
    "name": "ipython",
    "version": 3
   },
   "file_extension": ".py",
   "mimetype": "text/x-python",
   "name": "python",
   "nbconvert_exporter": "python",
   "pygments_lexer": "ipython3",
   "version": "3.6.9"
  }
 },
 "nbformat": 4,
 "nbformat_minor": 5
}
